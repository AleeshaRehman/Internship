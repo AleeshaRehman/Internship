{
 "cells": [
  {
   "cell_type": "markdown",
   "id": "f22223ac",
   "metadata": {},
   "source": [
    "### Aleesha Rehman\n",
    "### Cygnetic Software \n",
    "### AI/ML Developer Intern\n",
    "### Week 02- Assignment \n",
    "### 22nd July, 2024"
   ]
  },
  {
   "cell_type": "markdown",
   "id": "21d91b6b",
   "metadata": {},
   "source": [
    "### Question 1\n",
    "Write a code that will:\n",
    "1. Prompt the user to enter their name, age, email, and favorite number.\n",
    "2. Stores these inputs in a dictionary with appropriate keys.\n",
    "3. Validate the email format (contains \"@\" and \".\").\n",
    "4. Displays a message using these variables, formatted as: \"Hello [name], you are [age] years old, your email is [email], and your favorite number is [favorite number].\"\n"
   ]
  },
  {
   "cell_type": "code",
   "execution_count": 1,
   "id": "86ec2ff1",
   "metadata": {},
   "outputs": [
    {
     "name": "stdout",
     "output_type": "stream",
     "text": [
      "Enter your name: Aleesha\n",
      "Enter your age: 20\n",
      "Enter your email: aleesharehman2003@gmail.com\n",
      "Enter your favorite number: 7\n",
      "Hello Aleesha, you are 20 years old, your email is aleesharehman2003@gmail.com, and your favorite number is 7.\n"
     ]
    }
   ],
   "source": [
    "def validate_email(email):\n",
    "    if \"@\" in email and \".\" in email:\n",
    "        return True\n",
    "    return False\n",
    "\n",
    "def main():\n",
    "    name = input(\"Enter your name: \")\n",
    "    age = int(input(\"Enter your age: \"))\n",
    "    email = input(\"Enter your email: \")\n",
    "    while not validate_email(email):\n",
    "        print(\"Invalid email format. Please try again.\")\n",
    "        email = input(\"Enter your email: \")\n",
    "    favorite_number = int(input(\"Enter your favorite number: \"))\n",
    "\n",
    "    user_data = {\n",
    "        \"name\": name,\n",
    "        \"age\": age,\n",
    "        \"email\": email,\n",
    "        \"favorite_number\": favorite_number\n",
    "    }\n",
    "\n",
    "    message = f\"Hello {name}, you are {age} years old, your email is {email}, and your favorite number is {favorite_number}.\"\n",
    "    print(message)\n",
    "\n",
    "if __name__ == \"__main__\":\n",
    "    main()"
   ]
  },
  {
   "cell_type": "markdown",
   "id": "5a599210",
   "metadata": {},
   "source": [
    "### Question 2\n",
    "Write a code for a function `Is_even(number)` that will:\n",
    "1. Takes an integer as an input.\n",
    "2. Returns True if the number is even, otherwise False if the number is odd.\n",
    "3. Print whether the number was even or odd hint: use conditions\n"
   ]
  },
  {
   "cell_type": "code",
   "execution_count": 4,
   "id": "d8db3a27",
   "metadata": {},
   "outputs": [
    {
     "name": "stdout",
     "output_type": "stream",
     "text": [
      "Enter a number: 4\n",
      "4 is even.\n",
      "Is_even(4) returns True\n"
     ]
    }
   ],
   "source": [
    "def Is_even(number):\n",
    "    \"\"\"\n",
    "    Returns True if the number is even, otherwise False if the number is odd.\n",
    "    \"\"\"\n",
    "    if number % 2 == 0:\n",
    "        print(f\"{number} is even.\")\n",
    "        return True\n",
    "    else:\n",
    "        print(f\"{number} is odd.\")\n",
    "        return False\n",
    "\n",
    "def main():\n",
    "    number = int(input(\"Enter a number: \"))\n",
    "    result = Is_even(number)\n",
    "    print(f\"Is_even({number}) returns {result}\")\n",
    "\n",
    "if __name__ == \"__main__\":\n",
    "    main()"
   ]
  },
  {
   "cell_type": "markdown",
   "id": "413ef8e6",
   "metadata": {},
   "source": [
    "### Question 3\n",
    "Write a function `convert_temperature(temp, scale)` that:\n",
    "1. Takes a temperature value and a scale (\"C\" for Celsius, \"F\" for Fahrenheit) as inputs.\n",
    "2. Converts the temperature to the other scale.\n",
    "3. Returns the converted temperature.\n",
    "4. Display the converted temperature.\n"
   ]
  },
  {
   "cell_type": "code",
   "execution_count": 5,
   "id": "12892346",
   "metadata": {},
   "outputs": [
    {
     "name": "stdout",
     "output_type": "stream",
     "text": [
      "Enter a temperature value: 56\n",
      "Enter the scale (C for Celsius, F for Fahrenheit): C\n",
      "56.0°C is equal to 132.8°F.\n",
      "The converted temperature is 132.8\n"
     ]
    }
   ],
   "source": [
    "def convert_temperature(temp, scale):\n",
    "    \"\"\"\n",
    "    Converts a temperature from one scale to another.\n",
    "\n",
    "    Args:\n",
    "        temp (float): The temperature value to convert.\n",
    "        scale (str): The original scale of the temperature (\"C\" for Celsius, \"F\" for Fahrenheit).\n",
    "\n",
    "    Returns:\n",
    "        float: The converted temperature value.\n",
    "    \"\"\"\n",
    "    if scale.upper() == \"C\":  # Convert Celsius to Fahrenheit\n",
    "        converted_temp = (temp * 9/5) + 32\n",
    "        print(f\"{temp}°C is equal to {converted_temp}°F.\")\n",
    "        return converted_temp\n",
    "    elif scale.upper() == \"F\":  # Convert Fahrenheit to Celsius\n",
    "        converted_temp = (temp - 32) * 5/9\n",
    "        print(f\"{temp}°F is equal to {converted_temp}°C.\")\n",
    "        return converted_temp\n",
    "    else:\n",
    "        raise ValueError(\"Invalid scale. Please enter 'C' for Celsius or 'F' for Fahrenheit.\")\n",
    "\n",
    "def main():\n",
    "    temp = float(input(\"Enter a temperature value: \"))\n",
    "    scale = input(\"Enter the scale (C for Celsius, F for Fahrenheit): \")\n",
    "    result = convert_temperature(temp, scale)\n",
    "    print(f\"The converted temperature is {result}\")\n",
    "\n",
    "if __name__ == \"__main__\":\n",
    "    main()"
   ]
  },
  {
   "cell_type": "markdown",
   "id": "77ce3b79",
   "metadata": {},
   "source": [
    "### Question 4\n",
    "Write a code that will:\n",
    "1. Contains a function `find_max_min(numbers_list)` that takes a list of numbers and returns both the maximum and minimum numbers in the list.\n",
    "2. Prompts the user to enter 5 numbers, stores them in a list, and then uses the `find_max_min` function to find and display the maximum and minimum numbers.\n"
   ]
  },
  {
   "cell_type": "code",
   "execution_count": 6,
   "id": "37ff738e",
   "metadata": {},
   "outputs": [
    {
     "name": "stdout",
     "output_type": "stream",
     "text": [
      "Enter number 1: 3\n",
      "Enter number 2: 8\n",
      "Enter number 3: 90\n",
      "Enter number 4: 107\n",
      "Enter number 5: 7\n",
      "Maximum number: 107.0\n",
      "Minimum number: 3.0\n"
     ]
    }
   ],
   "source": [
    "def find_max_min(numbers_list):\n",
    "    \"\"\"\n",
    "    Finds the maximum and minimum numbers in a list.\n",
    "\n",
    "    Args:\n",
    "        numbers_list (list): A list of numbers.\n",
    "\n",
    "    Returns:\n",
    "        tuple: A tuple containing the maximum and minimum numbers.\n",
    "    \"\"\"\n",
    "    max_num = max(numbers_list)\n",
    "    min_num = min(numbers_list)\n",
    "    return max_num, min_num\n",
    "\n",
    "def main():\n",
    "    numbers = []\n",
    "    for i in range(5):\n",
    "        num = float(input(f\"Enter number {i+1}: \"))\n",
    "        numbers.append(num)\n",
    "    max_num, min_num = find_max_min(numbers)\n",
    "    print(f\"Maximum number: {max_num}\")\n",
    "    print(f\"Minimum number: {min_num}\")\n",
    "\n",
    "if __name__ == \"__main__\":\n",
    "    main()"
   ]
  },
  {
   "cell_type": "markdown",
   "id": "ee329c97",
   "metadata": {},
   "source": [
    "### Question 5\n",
    "Write a code that will:\n",
    "1. Prompt the user to enter details of 3 students: name, age, and grade.\n",
    "2. Stores these details in a list of tuples, with each tuple containing the name, age, and grade of a student.\n",
    "3. Convert this list of tuples into a dictionary with the student name as the key and the tuple (age, grade) as the value.\n",
    "4. Displays an appropriate output.\n"
   ]
  },
  {
   "cell_type": "code",
   "execution_count": 7,
   "id": "71c96d27",
   "metadata": {},
   "outputs": [
    {
     "name": "stdout",
     "output_type": "stream",
     "text": [
      "Enter name of student 1: ali\n",
      "Enter age of student 1: 8\n",
      "Enter grade of student 1: 4\n",
      "Enter name of student 2: ayesha\n",
      "Enter age of student 2: 15\n",
      "Enter grade of student 2: 9\n",
      "Enter name of student 3: amna\n",
      "Enter age of student 3: 13\n",
      "Enter grade of student 3: 7\n",
      "Student Details:\n",
      "Name: ali, Age: 8, Grade: 4.00\n",
      "Name: ayesha, Age: 15, Grade: 9.00\n",
      "Name: amna, Age: 13, Grade: 7.00\n"
     ]
    }
   ],
   "source": [
    "def main():\n",
    "    students = []\n",
    "    for i in range(3):\n",
    "        name = input(f\"Enter name of student {i+1}: \")\n",
    "        age = int(input(f\"Enter age of student {i+1}: \"))\n",
    "        grade = float(input(f\"Enter grade of student {i+1}: \"))\n",
    "        students.append((name, age, grade))\n",
    "\n",
    "    students_dict = {name: (age, grade) for name, age, grade in students}\n",
    "\n",
    "    print(\"Student Details:\")\n",
    "    for name, (age, grade) in students_dict.items():\n",
    "        print(f\"Name: {name}, Age: {age}, Grade: {grade:.2f}\")\n",
    "\n",
    "if __name__ == \"__main__\":\n",
    "    main()"
   ]
  },
  {
   "cell_type": "markdown",
   "id": "4c60c41b",
   "metadata": {},
   "source": [
    "### Question 6\n",
    "Write a code for function `update_inventory(inventory_dict, item, quantity)` that will:\n",
    "1. Take a dictionary where keys are item names and values are quantities, an item name, and a quantity to add or remove.\n",
    "2. Updates the inventory by adding or removing the specified quantity (use negative values for removal).\n",
    "3. Ensures that the quantity of any item does not go below zero.\n",
    "4. Returns the updated dictionary.\n",
    "\n",
    "Use this function to\n",
    "1. Initialize an inventory dictionary with at least 5 items.\n",
    "2. Prompt the user to update the inventory by adding or removing quantities of 3 items.\n",
    "3. Display the updated inventory.\n"
   ]
  },
  {
   "cell_type": "code",
   "execution_count": 8,
   "id": "4e235268",
   "metadata": {},
   "outputs": [
    {
     "name": "stdout",
     "output_type": "stream",
     "text": [
      "Enter name of item 1 to update: item1\n",
      "Enter quantity to add or remove: 0\n",
      "Enter name of item 2 to update: item2\n",
      "Enter quantity to add or remove: 5\n",
      "Enter name of item 3 to update: item3\n",
      "Enter quantity to add or remove: 3\n",
      "Updated Inventory:\n",
      "item1: 10\n",
      "item2: 10\n",
      "item3: 23\n",
      "item4: 15\n",
      "item5: 8\n"
     ]
    }
   ],
   "source": [
    "def update_inventory(inventory_dict, item, quantity):\n",
    "    \"\"\"\n",
    "    Updates the inventory by adding or removing the specified quantity.\n",
    "\n",
    "    Args:\n",
    "        inventory_dict (dict): A dictionary where keys are item names and values are quantities.\n",
    "        item (str): The name of the item to update.\n",
    "        quantity (int): The quantity to add or remove.\n",
    "\n",
    "    Returns:\n",
    "        dict: The updated inventory dictionary.\n",
    "    \"\"\"\n",
    "    if item in inventory_dict:\n",
    "        inventory_dict[item] += quantity\n",
    "        if inventory_dict[item] < 0:\n",
    "            inventory_dict[item] = 0\n",
    "    else:\n",
    "        inventory_dict[item] = quantity\n",
    "\n",
    "    return inventory_dict\n",
    "\n",
    "def main():\n",
    "    inventory_dict = {\"item1\": 10, \"item2\": 5, \"item3\": 20, \"item4\": 15, \"item5\": 8}\n",
    "\n",
    "    for i in range(3):\n",
    "        item = input(f\"Enter name of item {i+1} to update: \")\n",
    "        quantity = int(input(f\"Enter quantity to add: \"))\n",
    "        inventory_dict = update_inventory(inventory_dict, item, quantity)\n",
    "\n",
    "    print(\"Updated Inventory:\")\n",
    "    for item, quantity in inventory_dict.items():\n",
    "        print(f\"{item}: {quantity}\")\n",
    "\n",
    "if __name__ == \"__main__\":\n",
    "    main()"
   ]
  },
  {
   "cell_type": "code",
   "execution_count": null,
   "id": "76bca4bb",
   "metadata": {},
   "outputs": [],
   "source": []
  }
 ],
 "metadata": {
  "kernelspec": {
   "display_name": "Python 3 (ipykernel)",
   "language": "python",
   "name": "python3"
  },
  "language_info": {
   "codemirror_mode": {
    "name": "ipython",
    "version": 3
   },
   "file_extension": ".py",
   "mimetype": "text/x-python",
   "name": "python",
   "nbconvert_exporter": "python",
   "pygments_lexer": "ipython3",
   "version": "3.11.5"
  }
 },
 "nbformat": 4,
 "nbformat_minor": 5
}
