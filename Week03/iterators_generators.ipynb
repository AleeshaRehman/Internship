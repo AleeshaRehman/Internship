{
 "cells": [
  {
   "cell_type": "code",
   "execution_count": 1,
   "id": "b805882c",
   "metadata": {},
   "outputs": [
    {
     "name": "stdout",
     "output_type": "stream",
     "text": [
      "Countdown:\n",
      "10\n",
      "9\n",
      "8\n",
      "7\n",
      "6\n",
      "5\n",
      "4\n",
      "3\n",
      "2\n",
      "1\n",
      "\n",
      "Fibonacci numbers up to 100:\n",
      "0 1 1 2 3 5 8 13 21 34 55 89 \n",
      "\n",
      "Random numbers between 1 and 100 (5 numbers):\n",
      "50\n",
      "24\n",
      "44\n",
      "62\n",
      "27\n"
     ]
    }
   ],
   "source": [
    "import random\n",
    "\n",
    "class Countdown:\n",
    "    def __init__(self, n):\n",
    "        self.n = n\n",
    "\n",
    "    def __iter__(self):\n",
    "        return self\n",
    "\n",
    "    def __next__(self):\n",
    "        if self.n < 1:\n",
    "            raise StopIteration\n",
    "        else:\n",
    "            result = self.n\n",
    "            self.n -= 1\n",
    "            return result\n",
    "\n",
    "def fibonacci_generator(limit):\n",
    "    a, b = 0, 1\n",
    "    while a <= limit:\n",
    "        yield a\n",
    "        a, b = b, a + b\n",
    "\n",
    "def random_number_generator(start, end, count):\n",
    "    for _ in range(count):\n",
    "        yield random.randint(start, end)\n",
    "\n",
    "# Demonstration program\n",
    "if __name__ == \"__main__\":\n",
    "    # Countdown iterator\n",
    "    countdown = Countdown(10)\n",
    "    print(\"Countdown:\")\n",
    "    for num in countdown:\n",
    "        print(num)\n",
    "\n",
    "    # Fibonacci generator\n",
    "    print(\"\\nFibonacci numbers up to 100:\")\n",
    "    for num in fibonacci_generator(100):\n",
    "        print(num, end=\" \")\n",
    "\n",
    "    # Random number generator\n",
    "    print(\"\\n\\nRandom numbers between 1 and 100 (5 numbers):\")\n",
    "    for num in random_number_generator(1, 100, 5):\n",
    "        print(num)"
   ]
  },
  {
   "cell_type": "code",
   "execution_count": null,
   "id": "bf0a220d",
   "metadata": {},
   "outputs": [],
   "source": []
  }
 ],
 "metadata": {
  "kernelspec": {
   "display_name": "Python 3 (ipykernel)",
   "language": "python",
   "name": "python3"
  },
  "language_info": {
   "codemirror_mode": {
    "name": "ipython",
    "version": 3
   },
   "file_extension": ".py",
   "mimetype": "text/x-python",
   "name": "python",
   "nbconvert_exporter": "python",
   "pygments_lexer": "ipython3",
   "version": "3.11.5"
  }
 },
 "nbformat": 4,
 "nbformat_minor": 5
}
