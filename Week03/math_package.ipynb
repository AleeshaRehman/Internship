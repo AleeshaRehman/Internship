{
 "cells": [
  {
   "cell_type": "markdown",
   "id": "ae28f827",
   "metadata": {},
   "source": [
    "math/\n",
    "\n",
    "__init__.py\n",
    "\n",
    "addition.py\n",
    "\n",
    "subtraction.py\n",
    "\n",
    "multiplication.py\n",
    "\n",
    "division.py\n",
    "\n",
    "modulus.py\n",
    "\n",
    "exponentiation.py\n",
    "\n",
    "square_root.py\n",
    "\n",
    "main.py"
   ]
  },
  {
   "cell_type": "code",
   "execution_count": 11,
   "id": "de845029",
   "metadata": {},
   "outputs": [],
   "source": [
    "# addition.py\n",
    "def add(a, b):\n",
    "    return a + b"
   ]
  },
  {
   "cell_type": "code",
   "execution_count": 12,
   "id": "5ed7acff",
   "metadata": {},
   "outputs": [],
   "source": [
    "# subtraction.py\n",
    "def subtract(a, b):\n",
    "    return a - b\n"
   ]
  },
  {
   "cell_type": "code",
   "execution_count": 13,
   "id": "f15e3a0e",
   "metadata": {},
   "outputs": [],
   "source": [
    "# multiplication.py\n",
    "def multiply(a, b):\n",
    "    return a * b\n"
   ]
  },
  {
   "cell_type": "code",
   "execution_count": 14,
   "id": "526eb760",
   "metadata": {},
   "outputs": [],
   "source": [
    "# division.py\n",
    "def divide(a, b):\n",
    "    if b == 0:\n",
    "        raise ValueError(\"Cannot divide by zero.\")\n",
    "    return a / b\n"
   ]
  },
  {
   "cell_type": "code",
   "execution_count": 15,
   "id": "d06cb82b",
   "metadata": {},
   "outputs": [],
   "source": [
    "# modulus.py\n",
    "def mod(a, b):\n",
    "    return a % b\n"
   ]
  },
  {
   "cell_type": "code",
   "execution_count": 16,
   "id": "e930a3e0",
   "metadata": {},
   "outputs": [],
   "source": [
    "# exponentiation.py\n",
    "def power(a, b):\n",
    "    return a ** b\n"
   ]
  },
  {
   "cell_type": "code",
   "execution_count": 20,
   "id": "6b89aff7",
   "metadata": {},
   "outputs": [],
   "source": [
    "# sqrt.py\n",
    "import math\n",
    "\n",
    "def square_root(a):\n",
    "    if a < 0:\n",
    "        raise ValueError(\"Cannot take the square root of a negative number.\")\n",
    "    return math.sqrt(a)\n"
   ]
  },
  {
   "cell_type": "code",
   "execution_count": 22,
   "id": "4740308e",
   "metadata": {},
   "outputs": [],
   "source": [
    "# __init__.py\n",
    "from types import ModuleType\n",
    "\n",
    "math_pkg = ModuleType('math_pkg')\n",
    "math_pkg.add = add\n",
    "math_pkg.subtract = subtract\n",
    "math_pkg.multiply = multiply\n",
    "math_pkg.divide = divide\n",
    "math_pkg.mod = mod\n",
    "math_pkg.power = power\n",
    "math_pkg.square_root = square_root\n"
   ]
  },
  {
   "cell_type": "code",
   "execution_count": 23,
   "id": "0df86b93",
   "metadata": {},
   "outputs": [
    {
     "name": "stdout",
     "output_type": "stream",
     "text": [
      "Addition of 10 and 5: 15\n",
      "Subtraction of 5 from 10: 5\n",
      "Multiplication of 10 and 5: 50\n",
      "Division of 10 by 5: 2.0\n",
      "Modulus of 10 and 5: 0\n",
      "10 to the power of 5: 100000\n",
      "Square root of 10: 3.1622776601683795\n"
     ]
    }
   ],
   "source": [
    "# main.py\n",
    "def main():\n",
    "    a = 10\n",
    "    b = 5\n",
    "\n",
    "    print(f\"Addition of {a} and {b}: {math_pkg.add(a, b)}\")\n",
    "    print(f\"Subtraction of {b} from {a}: {math_pkg.subtract(a, b)}\")\n",
    "    print(f\"Multiplication of {a} and {b}: {math_pkg.multiply(a, b)}\")\n",
    "    print(f\"Division of {a} by {b}: {math_pkg.divide(a, b)}\")\n",
    "    print(f\"Modulus of {a} and {b}: {math_pkg.mod(a, b)}\")\n",
    "    print(f\"{a} to the power of {b}: {math_pkg.power(a, b)}\")\n",
    "    print(f\"Square root of {a}: {math_pkg.square_root(a)}\")\n",
    "\n",
    "if __name__ == \"__main__\":\n",
    "    main()\n"
   ]
  },
  {
   "cell_type": "code",
   "execution_count": null,
   "id": "ebdaf453",
   "metadata": {},
   "outputs": [],
   "source": []
  }
 ],
 "metadata": {
  "kernelspec": {
   "display_name": "Python 3 (ipykernel)",
   "language": "python",
   "name": "python3"
  },
  "language_info": {
   "codemirror_mode": {
    "name": "ipython",
    "version": 3
   },
   "file_extension": ".py",
   "mimetype": "text/x-python",
   "name": "python",
   "nbconvert_exporter": "python",
   "pygments_lexer": "ipython3",
   "version": "3.11.5"
  }
 },
 "nbformat": 4,
 "nbformat_minor": 5
}
