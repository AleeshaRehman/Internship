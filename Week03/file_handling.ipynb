{
 "cells": [
  {
   "cell_type": "code",
   "execution_count": 1,
   "id": "b7abad57",
   "metadata": {},
   "outputs": [
    {
     "name": "stdout",
     "output_type": "stream",
     "text": [
      "File contents:\n",
      "Aleesha Rehman \n",
      "PAF-IAST\n",
      "BS Artificial Intelligence\n",
      "Semester # 07\n",
      "Number of words: 9\n",
      "Enter some text: Narmeen Hafeez\n",
      "Data written to 'output.txt' successfully.\n"
     ]
    }
   ],
   "source": [
    "def read_file(filename):\n",
    "    try:\n",
    "        with open(filename, 'r') as file:\n",
    "            content = file.read()\n",
    "            print(\"File contents:\")\n",
    "            print(content)\n",
    "            words = content.split()\n",
    "            print(f\"Number of words: {len(words)}\")\n",
    "    except FileNotFoundError:\n",
    "        print(f\"Error: File '{filename}' not found.\")\n",
    "    except Exception as e:\n",
    "        print(f\"Error: An error occurred while reading the file: {e}\")\n",
    "\n",
    "def write_file(filename):\n",
    "    try:\n",
    "        user_input = input(\"Enter some text: \")\n",
    "        with open(filename, 'w') as file:\n",
    "            file.write(user_input)\n",
    "        print(f\"Data written to '{filename}' successfully.\")\n",
    "    except Exception as e:\n",
    "        print(f\"Error: An error occurred while writing to the file: {e}\")\n",
    "\n",
    "# Read from data.txt\n",
    "read_file('data.txt')\n",
    "\n",
    "# Write to output.txt\n",
    "write_file('output.txt')"
   ]
  },
  {
   "cell_type": "code",
   "execution_count": null,
   "id": "ff42d3f6",
   "metadata": {},
   "outputs": [],
   "source": []
  }
 ],
 "metadata": {
  "kernelspec": {
   "display_name": "Python 3 (ipykernel)",
   "language": "python",
   "name": "python3"
  },
  "language_info": {
   "codemirror_mode": {
    "name": "ipython",
    "version": 3
   },
   "file_extension": ".py",
   "mimetype": "text/x-python",
   "name": "python",
   "nbconvert_exporter": "python",
   "pygments_lexer": "ipython3",
   "version": "3.11.5"
  }
 },
 "nbformat": 4,
 "nbformat_minor": 5
}
